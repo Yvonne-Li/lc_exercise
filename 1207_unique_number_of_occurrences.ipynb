{
 "cells": [
  {
   "cell_type": "markdown",
   "id": "35a88f6a",
   "metadata": {},
   "source": [
    "Given an array of integers arr, return true if the number of occurrences of each value in the array is unique or false otherwise.\n",
    "\n",
    " \n",
    "\n",
    "Example 1:\n",
    "\n",
    "Input: arr = [1,2,2,1,1,3]\n",
    "Output: true\n",
    "Explanation: The value 1 has 3 occurrences, 2 has 2 and 3 has 1. No two values have the same number of occurrences.\n",
    "\n",
    "Example 2:\n",
    "\n",
    "Input: arr = [1,2]\n",
    "Output: false\n",
    "\n",
    "Example 3:\n",
    "\n",
    "Input: arr = [-3,0,1,-3,1,1,1,-3,10,0]\n",
    "Output: true\n"
   ]
  },
  {
   "cell_type": "code",
   "execution_count": null,
   "id": "21c9323c",
   "metadata": {},
   "outputs": [],
   "source": [
    "class Solution:\n",
    "    def uniqueOccurrences(self, arr: List[int]) -> bool:\n",
    "        same = {}\n",
    "        for i in range(len(arr)):\n",
    "            n = arr[i] \n",
    "            if n in same:\n",
    "                same[n] += 1\n",
    "            else:\n",
    "                same[n] = 1\n",
    "        counts = list(same.values())\n",
    "        return len(counts) == len(set(counts))"
   ]
  },
  {
   "cell_type": "code",
   "execution_count": 1,
   "id": "cda77a69",
   "metadata": {},
   "outputs": [],
   "source": [
    "arr = [1,2,2,1,1,3]"
   ]
  },
  {
   "cell_type": "code",
   "execution_count": 4,
   "id": "c311f6fb",
   "metadata": {},
   "outputs": [
    {
     "name": "stdout",
     "output_type": "stream",
     "text": [
      "[3, 2, 1]\n",
      "{1: 3, 2: 2, 3: 1}\n",
      "3\n",
      "{1, 2, 3}\n",
      "3\n"
     ]
    }
   ],
   "source": [
    "same = {}\n",
    "for i in range(len(arr)):\n",
    "    n = arr[i] \n",
    "    if n in same:\n",
    "        same[n] += 1\n",
    "    else:\n",
    "        same[n] = 1\n",
    "counts = list(same.values())\n",
    "print(counts)\n",
    "print(same)\n",
    "print(len(set(counts)))\n",
    "print(set(counts))\n",
    "print(len(counts))"
   ]
  },
  {
   "cell_type": "code",
   "execution_count": 5,
   "id": "ca647b9c",
   "metadata": {},
   "outputs": [
    {
     "ename": "TypeError",
     "evalue": "'builtin_function_or_method' object does not support item assignment",
     "output_type": "error",
     "traceback": [
      "\u001b[0;31m---------------------------------------------------------------------------\u001b[0m",
      "\u001b[0;31mTypeError\u001b[0m                                 Traceback (most recent call last)",
      "Cell \u001b[0;32mIn[5], line 4\u001b[0m\n\u001b[1;32m      2\u001b[0m same \u001b[38;5;241m=\u001b[39m {}\n\u001b[1;32m      3\u001b[0m \u001b[38;5;28;01mfor\u001b[39;00m num \u001b[38;5;129;01min\u001b[39;00m arr:\n\u001b[0;32m----> 4\u001b[0m     \u001b[38;5;28;43msum\u001b[39;49m\u001b[43m[\u001b[49m\u001b[43mnum\u001b[49m\u001b[43m]\u001b[49m \u001b[38;5;241m=\u001b[39m same\u001b[38;5;241m.\u001b[39mget(num,\u001b[38;5;241m0\u001b[39m) \u001b[38;5;241m+\u001b[39m \u001b[38;5;241m1\u001b[39m\n\u001b[1;32m      5\u001b[0m counts \u001b[38;5;241m=\u001b[39m \u001b[38;5;28mlist\u001b[39m(same\u001b[38;5;241m.\u001b[39mvalues())\n\u001b[1;32m      6\u001b[0m \u001b[38;5;28;01mreturn\u001b[39;00m \u001b[38;5;28mlen\u001b[39m(counts) \u001b[38;5;241m==\u001b[39m \u001b[38;5;28mlen\u001b[39m(\u001b[38;5;28mset\u001b[39m(counts))\n",
      "\u001b[0;31mTypeError\u001b[0m: 'builtin_function_or_method' object does not support item assignment"
     ]
    }
   ],
   "source": [
    "#another cleaner way:\n",
    "same = {}\n",
    "for num in arr:\n",
    "    sum[num] = same.get(num,0) + 1\n",
    "counts = list(same.values())\n",
    "return len(counts) == len(set(counts))"
   ]
  }
 ],
 "metadata": {
  "kernelspec": {
   "display_name": "Python (bd4h_project)",
   "language": "python",
   "name": "bd4h_project"
  },
  "language_info": {
   "codemirror_mode": {
    "name": "ipython",
    "version": 3
   },
   "file_extension": ".py",
   "mimetype": "text/x-python",
   "name": "python",
   "nbconvert_exporter": "python",
   "pygments_lexer": "ipython3",
   "version": "3.10.10"
  }
 },
 "nbformat": 4,
 "nbformat_minor": 5
}
