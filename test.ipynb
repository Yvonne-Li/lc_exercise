{
 "cells": [
  {
   "cell_type": "code",
   "execution_count": 12,
   "id": "afe6cd6c",
   "metadata": {},
   "outputs": [],
   "source": [
    "nums = [1]"
   ]
  },
  {
   "cell_type": "code",
   "execution_count": 14,
   "id": "4b799f78",
   "metadata": {},
   "outputs": [
    {
     "name": "stdout",
     "output_type": "stream",
     "text": [
      "2\n"
     ]
    }
   ],
   "source": [
    "print(len(nums)+1)"
   ]
  },
  {
   "cell_type": "code",
   "execution_count": 10,
   "id": "f531f49a",
   "metadata": {},
   "outputs": [
    {
     "name": "stdout",
     "output_type": "stream",
     "text": [
      "{0, 1}\n"
     ]
    }
   ],
   "source": [
    "minn = min(nums)\n",
    "maxx = max(nums)+1\n",
    "set1 = set(range(minn, maxx))\n",
    "print(set1)"
   ]
  },
  {
   "cell_type": "code",
   "execution_count": null,
   "id": "2be42f0b",
   "metadata": {},
   "outputs": [
    {
     "ename": "NameError",
     "evalue": "name 'minn' is not defined",
     "output_type": "error",
     "traceback": [
      "\u001b[0;31m---------------------------------------------------------------------------\u001b[0m",
      "\u001b[0;31mNameError\u001b[0m                                 Traceback (most recent call last)",
      "Cell \u001b[0;32mIn[5], line 1\u001b[0m\n\u001b[0;32m----> 1\u001b[0m set1 \u001b[38;5;241m=\u001b[39m \u001b[38;5;28mset\u001b[39m(\u001b[38;5;28mrange\u001b[39m(\u001b[43mminn\u001b[49m, maxx))\n\u001b[1;32m      2\u001b[0m set2 \u001b[38;5;241m=\u001b[39m \u001b[38;5;28mset\u001b[39m(nums)\n",
      "\u001b[0;31mNameError\u001b[0m: name 'minn' is not defined"
     ]
    }
   ],
   "source": [
    "\n",
    "\n",
    "set1 = set(range(minn, maxx))\n",
    "set2 = set(nums)"
   ]
  },
  {
   "cell_type": "code",
   "execution_count": null,
   "id": "7921034b",
   "metadata": {},
   "outputs": [],
   "source": [
    "\n",
    "set1 = set(range(minn, maxx))\n",
    "set2 = set(nums)\n",
    "df = set1 - set2\n",
    "if df:\n",
    "    return df.pop()\n",
    "return None"
   ]
  },
  {
   "cell_type": "code",
   "execution_count": 17,
   "id": "68f489de",
   "metadata": {},
   "outputs": [],
   "source": [
    "s =\"aacc\"\n",
    "t =\"ccac\""
   ]
  },
  {
   "cell_type": "code",
   "execution_count": 18,
   "id": "8ba7408f",
   "metadata": {},
   "outputs": [
    {
     "name": "stdout",
     "output_type": "stream",
     "text": [
      "['a', 'a', 'c', 'c'] ['c', 'c', 'a', 'c'] []\n"
     ]
    }
   ],
   "source": [
    "list1 = list(s)\n",
    "list2 = list(t)\n",
    "diff = [item for item in list2 if item not in list1]\n",
    "print(list1,list2,diff)"
   ]
  },
  {
   "cell_type": "code",
   "execution_count": 20,
   "id": "6e6d0679",
   "metadata": {},
   "outputs": [],
   "source": [
    "nums = [2,7,11,15]\n",
    "target = 9"
   ]
  },
  {
   "cell_type": "code",
   "execution_count": 31,
   "id": "169ae901",
   "metadata": {},
   "outputs": [
    {
     "name": "stdout",
     "output_type": "stream",
     "text": [
      "0 else\n",
      "2\n",
      "{2: 0}\n",
      "1 seen\n",
      "7\n",
      "[0, 1]\n",
      "2 else\n",
      "11\n",
      "{2: 0, 11: 2}\n",
      "3 else\n",
      "15\n",
      "{2: 0, 11: 2, 15: 3}\n"
     ]
    }
   ],
   "source": [
    "seen = {}\n",
    "for i in range(len(nums)):\n",
    "    diff = target - nums[i]\n",
    "    if diff in seen:\n",
    "        print(f\"{i} seen\")\n",
    "        print(nums[i])\n",
    "        print([seen[diff],i])\n",
    "    else:\n",
    "        seen[nums[i]] = i\n",
    "        print(f\"{i} else\")\n",
    "        print(nums[i])\n",
    "        print( seen)"
   ]
  },
  {
   "cell_type": "code",
   "execution_count": 35,
   "id": "38b01822",
   "metadata": {},
   "outputs": [
    {
     "name": "stdout",
     "output_type": "stream",
     "text": [
      "9\n"
     ]
    }
   ],
   "source": [
    "nums = [4,3,2,7,8,2,3,1]\n",
    "maxx = len(nums)+1\n",
    "print(maxx)"
   ]
  },
  {
   "cell_type": "code",
   "execution_count": 38,
   "id": "bec78cd9",
   "metadata": {},
   "outputs": [
    {
     "name": "stdout",
     "output_type": "stream",
     "text": [
      "[5, 6]\n",
      "{1, 2, 3, 4, 5, 6, 7, 8}\n"
     ]
    }
   ],
   "source": [
    "set1 = set(nums)\n",
    "set2 = set(list(range(1,maxx)))\n",
    "diff = set2-set1\n",
    "print(list(diff))\n",
    "print(set2)"
   ]
  },
  {
   "cell_type": "code",
   "execution_count": null,
   "id": "d91668f8",
   "metadata": {},
   "outputs": [
    {
     "name": "stdout",
     "output_type": "stream",
     "text": [
      "[2, 2]\n",
      "[2]\n"
     ]
    }
   ],
   "source": [
    "nums1=[1,2,3,1]\n",
    "nums2=[2,2]\n",
    "same1 = [item for item in nums2 if item in nums1]\n",
    "same2 = [item for item in nums1 if item in nums2]\n",
    "print(same1)\n",
    "print(same2)"
   ]
  },
  {
   "cell_type": "code",
   "execution_count": null,
   "id": "43bad4a8",
   "metadata": {},
   "outputs": [],
   "source": [
    "nums.reduce(:^)"
   ]
  },
  {
   "cell_type": "code",
   "execution_count": 53,
   "id": "620f5454",
   "metadata": {},
   "outputs": [
    {
     "name": "stdout",
     "output_type": "stream",
     "text": [
      "3\n",
      "1\n",
      "0\n"
     ]
    }
   ],
   "source": [
    "nums = [2,2,1]\n",
    "result = 1\n",
    "for num in nums:\n",
    "\n",
    "    result ^=num\n",
    "    print(result)"
   ]
  },
  {
   "cell_type": "code",
   "execution_count": 52,
   "id": "0385a226",
   "metadata": {},
   "outputs": [
    {
     "name": "stdout",
     "output_type": "stream",
     "text": [
      "1\n"
     ]
    }
   ],
   "source": [
    "print(0^1)"
   ]
  }
 ],
 "metadata": {
  "kernelspec": {
   "display_name": "Python (bd4h_project)",
   "language": "python",
   "name": "bd4h_project"
  },
  "language_info": {
   "codemirror_mode": {
    "name": "ipython",
    "version": 3
   },
   "file_extension": ".py",
   "mimetype": "text/x-python",
   "name": "python",
   "nbconvert_exporter": "python",
   "pygments_lexer": "ipython3",
   "version": "3.10.10"
  }
 },
 "nbformat": 4,
 "nbformat_minor": 5
}
