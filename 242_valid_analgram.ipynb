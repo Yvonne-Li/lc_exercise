{
 "cells": [
  {
   "cell_type": "markdown",
   "id": "5e7eaf1c",
   "metadata": {},
   "source": [
    "242. Valid Anagram\n",
    "Given two strings s and t, return true if t is an anagram of s, and false otherwise.\n",
    "\n",
    "\n",
    "Example 1:\n",
    "\n",
    "Input: s = \"anagram\", t = \"nagaram\"\n",
    "\n",
    "Output: true\n",
    "\n",
    "Example 2:\n",
    "\n",
    "Input: s = \"rat\", t = \"car\"\n",
    "\n",
    "Output: false"
   ]
  },
  {
   "cell_type": "code",
   "execution_count": null,
   "id": "20424dc0",
   "metadata": {
    "vscode": {
     "languageId": "plaintext"
    }
   },
   "outputs": [],
   "source": [
    "class Solution(object):\n",
    "    def isAnagram(self, s, t):\n",
    "        \"\"\"\n",
    "        :type s: str\n",
    "        :type t: str\n",
    "        :rtype: bool\n",
    "        \"\"\"\n",
    "        s_f = {}\n",
    "        t_f = {}\n",
    "        for char in s:\n",
    "            s_f[char] = s_f.get(char,0)+1\n",
    "        for char in t:\n",
    "            t_f[char] = t_f.get(char,0)+1\n",
    "        return s_f==t_f"
   ]
  },
  {
   "cell_type": "code",
   "execution_count": null,
   "id": "d29f9c12",
   "metadata": {
    "vscode": {
     "languageId": "plaintext"
    }
   },
   "outputs": [],
   "source": []
  }
 ],
 "metadata": {
  "language_info": {
   "name": "python"
  }
 },
 "nbformat": 4,
 "nbformat_minor": 5
}
